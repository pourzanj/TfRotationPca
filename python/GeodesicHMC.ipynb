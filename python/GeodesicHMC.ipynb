{
 "cells": [
  {
   "cell_type": "code",
   "execution_count": null,
   "metadata": {
    "collapsed": true
   },
   "outputs": [],
   "source": [
    "%matplotlib inline \n",
    "import numpy as np\n",
    "import autograd as ag\n",
    "from autograd import numpy as agnp\n",
    "from autograd import scipy\n",
    "from scipy.linalg import expm\n",
    "\n",
    "from sklearn.decomposition import PCA\n",
    "\n",
    "import time\n",
    "import matplotlib.pyplot as plt\n",
    "from mpl_toolkits.mplot3d import Axes3D\n",
    "from IPython import display"
   ]
  },
  {
   "cell_type": "markdown",
   "metadata": {},
   "source": [
    "<h1> Embedded Manifold HMC </h1>\n",
    "\n",
    "The Geodesic HMC algorithm is a small modification of classic HMC.  The structure of the code is 90% the same as HMC with the modification in that the integration is step is now repeated application of projection and flow steps."
   ]
  },
  {
   "cell_type": "code",
   "execution_count": null,
   "metadata": {
    "collapsed": true
   },
   "outputs": [],
   "source": [
    "\"\"\"\n",
    "    HMC but now with corrections to sample on an embedded manifold.\n",
    "\n",
    "    Inputs:\n",
    "        initial_params : initial parameters\n",
    "        n_iters        : number of samples\n",
    "        epsilon        : leapfrog step size\n",
    "        L              : number of leapfrog steps\n",
    "        U              : potential energy w.r.t Hausdorff Measure\n",
    "        grad_U         : gradient of potential energy w.r.t the Hausdorff Measure\n",
    "        N              : function for the orthogonal projection basis of the problem\n",
    "        flow           : geodesic flow update for q and p\n",
    "        print_iter     : how often to print the sample number\n",
    "\"\"\"\n",
    "def Embedded_Manifold_HMC(initial_params, n_iters, epsilon, L, U, grad_U, flow, projection, print_iter = 1000):\n",
    "\n",
    "    chain = [initial_params]\n",
    "    accepts = 0\n",
    "    rejects = 0\n",
    "\n",
    "    for it in range(1, n_iters):\n",
    "        \n",
    "        q = chain[it - 1].copy()\n",
    "        p = np.random.normal(0, 1, size = q.shape)\n",
    "        #p = p - np.dot(np.dot(N(q), N(q).T),p)\n",
    "        p = projection(p, q)\n",
    "\n",
    "        # Compute current potential and kinetic energy\n",
    "        current_U  = U(q)\n",
    "        current_K = np.sum(p**2) / 2\n",
    "       \n",
    "        for i in range(L):\n",
    "            p = p - epsilon * grad_U(q) / 2\n",
    "            #p = p - np.dot(np.dot(N(q),N(q).T),p)\n",
    "            p = projection(p, q)\n",
    "            q, p = flow(q, p, epsilon)\n",
    "            p = p - epsilon * grad_U(q) / 2\n",
    "            #p = p - np.dot(np.dot(N(q),N(q).T),p)\n",
    "            p = projection(p,q)\n",
    "\n",
    "        proposed_U = U(q)\n",
    "        proposed_K = np.sum(p**2) / 2\n",
    "\n",
    "        if np.random.uniform(0,1) < np.exp(current_U - proposed_U + current_K - proposed_K):\n",
    "            chain.append(q)\n",
    "            accepts += 1\n",
    "        else:\n",
    "            chain.append(chain[it-1])\n",
    "            rejects += 1\n",
    "\n",
    "        if it % print_iter == 0:\n",
    "            print(it)\n",
    "\n",
    "    print(accepts)\n",
    "    print(rejects)\n",
    "\n",
    "    return chain"
   ]
  },
  {
   "cell_type": "markdown",
   "metadata": {},
   "source": [
    "<h1> Geodesic HMC on Stiefel Manifolds </h1>\n",
    "\n",
    "To implement Geodesic HMC on Stiefel Manifolds we need to define two operations.\n",
    "\n",
    "1. Projection  \n",
    "  This defines a projection onto the manifold itself from a position and a velocity.\n",
    "\n",
    "2. Geodesic Flow  \n",
    "  This defines the evolution of some time epsilon on the manifold from a starting position."
   ]
  },
  {
   "cell_type": "code",
   "execution_count": null,
   "metadata": {
    "collapsed": true
   },
   "outputs": [],
   "source": [
    "# The projection onto the stiefel manifold\n",
    "# Input: \n",
    "#   V: Velocity\n",
    "#   X: Position\n",
    "def projection_Stiefel(V,X):\n",
    "    inner = np.dot(X.T,V) + np.dot(V.T, X)\n",
    "    return V - (1/2) * np.dot(X,inner)\n",
    "\n",
    "# The geodesic flow of the particle on the Stiefel Manifold\n",
    "# Input:\n",
    "#   X: Position\n",
    "#   V: Velocity\n",
    "#   epsilon: The time-step.\n",
    "def flow_Stiefel(X,V,epsilon):\n",
    "    A = np.dot(X.T,V)\n",
    "    S = np.dot(V.T,V)\n",
    "    mexp = expm(-epsilon * A)\n",
    "    t1 = expm(epsilon * np.bmat([[A, -S], [np.eye(A.shape[0]), A]]))\n",
    "    t2 = np.bmat([[mexp, np.zeros(mexp.shape)],[np.zeros(mexp.shape), mexp]])\n",
    "    F0 = np.bmat([X, V])\n",
    "    R = np.dot(F0, np.dot(t1,t2))\n",
    "    X_up, V_up = np.hsplit(R, 2)\n",
    "    return np.array(X_up), np.array(V_up)\n",
    "\n",
    "\"\"\"\n",
    "Helper functions to transform angles to the Given's representation\n",
    "and vice versa\n",
    "\"\"\"\n",
    "def left_rotate_counter_clockwise(A, angle, i, j):\n",
    "    AR = A.copy()\n",
    "    AR[i,:] = np.cos(angle)*A[i,:] - np.sin(angle)*A[j,:]\n",
    "    AR[j,:] = np.sin(angle)*A[i,:] + np.cos(angle)*A[j,:]\n",
    "    \n",
    "    return AR\n",
    "\n",
    "def right_rotate_counter_clockwise(A, angle, i, j):\n",
    "    AR = A.copy()\n",
    "    AR[:,i] = np.cos(angle)*A[:,i] + np.sin(angle)*A[:,j]\n",
    "    AR[:,j] = -np.sin(angle)*A[:,i] + np.cos(angle)*A[:,j]\n",
    "    \n",
    "    return AR\n",
    "\n",
    "def inverse_givens_transform(angles, n, p):\n",
    "    G = np.eye(n)\n",
    "    idx = 0\n",
    "    for i in range(p):\n",
    "        for j in range(i+1, n):\n",
    "            G = right_rotate_counter_clockwise(G, angles[idx], i, j)\n",
    "            idx = idx + 1\n",
    "    return G[:,0:p]\n",
    "\n",
    "def givens_transform(W):\n",
    "    n, p = W.shape\n",
    "    angles = [0 for _ in range(int(n*p-p*(p+1)/2))]\n",
    "    idx = 0\n",
    "    for i in range(p):\n",
    "        for j in range(i+1, n):\n",
    "            angle = np.arctan2(W[j,i],W[i,i])\n",
    "            W = left_rotate_counter_clockwise(W, -angle, i, j)\n",
    "            angles[idx] = angle\n",
    "            idx = idx + 1\n",
    "    \n",
    "    return [a/np.pi for a in angles]"
   ]
  },
  {
   "cell_type": "markdown",
   "metadata": {},
   "source": [
    "<h1> Testing PCA on the Manifold </h1>\n",
    "\n",
    "Let's look at PCA on some generated data."
   ]
  },
  {
   "cell_type": "code",
   "execution_count": null,
   "metadata": {},
   "outputs": [],
   "source": [
    "N = 100\n",
    "n_dim = 2\n",
    "p_dim = 1\n",
    "\n",
    "# Generate some 2D data that lies on a line\n",
    "# Latent representation of the data\n",
    "z = np.random.normal(0, 1, size = N).reshape((p_dim,N))\n",
    "\n",
    "# Orthogonal matrix we are trying to infer\n",
    "W = np.array([[1/np.sqrt(2), 1/np.sqrt(2)]]).T\n",
    "\n",
    "# Observed data = Wz + \\epsilon\n",
    "data = (np.dot(W, z) + np.random.normal(0, 1, size = (n_dim,N))).T\n",
    "\n",
    "# The data plotted clearly lies on the line.\n",
    "plt.scatter(data[:,0], data[:,1])"
   ]
  },
  {
   "cell_type": "markdown",
   "metadata": {},
   "source": [
    "Now let's apply PCA to it and visualize the found axes."
   ]
  },
  {
   "cell_type": "code",
   "execution_count": null,
   "metadata": {},
   "outputs": [],
   "source": [
    "m = PCA()\n",
    "m.fit(data)\n",
    "\n",
    "data_T = m.transform(data)\n",
    "c = m.components_\n",
    "\n",
    "# Visualizing the axes discovered by PCA\n",
    "plt.scatter(data[:,0], data[:,1])\n",
    "plt.quiver(0,0,c[0,0],c[0,1], scale = 1/.15, color = 'r')\n",
    "plt.quiver(0,0,c[1,0],c[1,1], scale = 1/.15, color = 'b')\n",
    "plt.quiver(0,0,W[0], W[1], scale = 1/.15, color = 'g')\n",
    "plt.xlim([-2,2])\n",
    "plt.ylim([-2,2])"
   ]
  },
  {
   "cell_type": "markdown",
   "metadata": {},
   "source": [
    "Looks pretty self explanatory though it's a bit off for some reason..."
   ]
  },
  {
   "cell_type": "markdown",
   "metadata": {},
   "source": [
    "<h1> Sampling via embedded manifold HMC </h1>\n",
    "\n",
    "We will now try to perform the same technique by sampling the PPCA model."
   ]
  },
  {
   "cell_type": "code",
   "execution_count": null,
   "metadata": {},
   "outputs": [],
   "source": [
    "# The model is y ~ N(Wz + \\epsilon)\n",
    "# This is the PPCA model and the log-likelihood is specified by Tipping and Bishop\n",
    "# We build the potential energy = -log-likelihood and use autograd to find the derivative\n",
    "sigma_hat = (1/N) * np.dot(data.T,data)\n",
    "def U(Q):\n",
    "    C = agnp.dot(Q, Q.T) + 1\n",
    "    C_inv = agnp.linalg.inv(C)\n",
    "    return N/2 * (agnp.log(agnp.linalg.det(C)) + agnp.trace(agnp.dot(C_inv,sigma_hat)))\n",
    "grad_U = ag.grad(U)"
   ]
  },
  {
   "cell_type": "code",
   "execution_count": null,
   "metadata": {},
   "outputs": [],
   "source": [
    "# Setting up the params for the sampling\n",
    "initial_params = np.eye(n_dim)[:,:p_dim]\n",
    "n_iters = 3000\n",
    "epsilon = 1e-2\n",
    "L = 100\n",
    "flow = flow_Stiefel\n",
    "projection = projection_Stiefel\n",
    "\n",
    "# Generate samples from the sampler\n",
    "samples = Embedded_Manifold_HMC(initial_params, n_iters, epsilon, L, U, grad_U, flow, projection) "
   ]
  },
  {
   "cell_type": "code",
   "execution_count": null,
   "metadata": {},
   "outputs": [],
   "source": [
    "# Visualizing the axes discovered by sampling\n",
    "plot_samples = False\n",
    "angles = [givens_transform(d)[0] for d in samples]\n",
    "\n",
    "if plot_samples:\n",
    "    plt.scatter(data[:,0], data[:,1])\n",
    "    plt.quiver(0,0,c[0,0],c[0,1], scale = 1/.15, color = 'g')\n",
    "    plt.quiver(0,0,c[1,0],c[1,1], scale = 1/.15, color = 'g')\n",
    "\n",
    "    plt.xlim([-2,2])\n",
    "    plt.ylim([-2,2])\n",
    "\n",
    "    for i in range(0,len(samples)):\n",
    "        d = samples[i]\n",
    "        angles.append(givens_transform(d)[0])\n",
    "        plt.scatter(d[0],d[1],color = 'r', alpha = 0.2)\n",
    "        display.clear_output(wait=True)\n",
    "        display.display(plt.gcf())\n",
    "        if i % 20 == 0:\n",
    "            plt.clf()\n",
    "            plt.scatter(data[:,0], data[:,1])\n",
    "            plt.quiver(0,0,c[0,0],c[0,1], scale = 1/.15, color = 'g')\n",
    "            plt.quiver(0,0,c[1,0],c[1,1], scale = 1/.15, color = 'g')\n",
    "\n",
    "            plt.xlim([-2,2])\n",
    "            plt.ylim([-2,2])\n",
    "        time.sleep(0.0001)"
   ]
  },
  {
   "cell_type": "code",
   "execution_count": null,
   "metadata": {},
   "outputs": [],
   "source": [
    "plt.plot(range(len(angles)), angles)\n",
    "plt.show()\n",
    "diff = []\n",
    "for i in range(1, len(angles)):\n",
    "    diff.append(angles[i] - angles[i-1])\n",
    "plt.plot(range(len(angles) - 1), diff)"
   ]
  },
  {
   "cell_type": "code",
   "execution_count": null,
   "metadata": {},
   "outputs": [],
   "source": [
    "plt.hist(angles[1:])\n",
    "print(np.mean(angles))"
   ]
  }
 ],
 "metadata": {
  "kernelspec": {
   "display_name": "Python 3",
   "language": "python",
   "name": "python3"
  },
  "language_info": {
   "codemirror_mode": {
    "name": "ipython",
    "version": 3
   },
   "file_extension": ".py",
   "mimetype": "text/x-python",
   "name": "python",
   "nbconvert_exporter": "python",
   "pygments_lexer": "ipython3",
   "version": "3.6.1"
  }
 },
 "nbformat": 4,
 "nbformat_minor": 2
}
