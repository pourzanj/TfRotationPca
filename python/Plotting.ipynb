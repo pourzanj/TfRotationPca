{
 "cells": [
  {
   "cell_type": "code",
   "execution_count": 1,
   "metadata": {},
   "outputs": [],
   "source": [
    "import numpy as np\n",
    "import matplotlib.pyplot as plt\n",
    "from mpl_toolkits.mplot3d import Axes3D"
   ]
  },
  {
   "cell_type": "code",
   "execution_count": 17,
   "metadata": {
    "collapsed": true
   },
   "outputs": [],
   "source": [
    "# Sample uniformly on plane for theta, phi\n",
    "def sample_angle_points(n, r):\n",
    "    theta = np.random.uniform(0, 2*np.pi, size = n)\n",
    "    phi = np.random.uniform(0, np.pi, size = n)\n",
    "    \n",
    "    return theta, phi\n",
    "    \n",
    "# Translate plane to spherical coordinates\n",
    "def angles_to_spherical_coordinates(theta, phi, r):\n",
    "    x = r * np.cos(theta) * np.sin(phi)\n",
    "    y = r * np.sin(theta) * np.sin(phi)\n",
    "    z = r * np.cos(phi)\n",
    "    \n",
    "    return x, y, z"
   ]
  },
  {
   "cell_type": "code",
   "execution_count": 33,
   "metadata": {},
   "outputs": [],
   "source": [
    "def generate_plot_plane_sphere(n, r = 1):\n",
    "    theta, phi = sample_angle_points(n = 1000, r = r)\n",
    "    x, y, z = angles_to_spherical_coordinates(theta, phi, r = r)\n",
    "    \n",
    "    # Plot sphere with points\n",
    "    fig = plt.figure(figsize=(8,6))\n",
    "    ax = fig.gca(projection = '3d')\n",
    "    u, v = np.mgrid[0:2*np.pi:20j, 0:np.pi:20j]\n",
    "    xs, ys, zs = angles_to_spherical_coordinates(u, v, r = r)\n",
    "    \n",
    "    ax.scatter(x, y, z, color = 'black', s = 3)\n",
    "    ax.plot_wireframe(xs, ys, zs, color = 'orange')\n",
    "    plt.axis('off')\n",
    "    plt.savefig('sphere.svg')\n",
    "    plt.close()\n",
    "    \n",
    "    # Plot plane\n",
    "    fig = plt.figure(figsize=(8,6))\n",
    "    ax = fig.gca()\n",
    "\n",
    "    plt.grid(True)\n",
    "    plt.rc('grid', linestyle=\"-\", color='orange')\n",
    "    plt.scatter(theta, phi, color = 'black')\n",
    "    plt.savefig('plane.svg',  transparent = True)"
   ]
  },
  {
   "cell_type": "code",
   "execution_count": 32,
   "metadata": {},
   "outputs": [],
   "source": [
    "generate_plot_plane_sphere(1000)"
   ]
  },
  {
   "cell_type": "code",
   "execution_count": null,
   "metadata": {
    "collapsed": true
   },
   "outputs": [],
   "source": []
  }
 ],
 "metadata": {
  "kernelspec": {
   "display_name": "Python 3",
   "language": "python",
   "name": "python3"
  },
  "language_info": {
   "codemirror_mode": {
    "name": "ipython",
    "version": 3
   },
   "file_extension": ".py",
   "mimetype": "text/x-python",
   "name": "python",
   "nbconvert_exporter": "python",
   "pygments_lexer": "ipython3",
   "version": "3.6.1"
  }
 },
 "nbformat": 4,
 "nbformat_minor": 2
}
