{
 "cells": [
  {
   "cell_type": "code",
   "execution_count": 2,
   "metadata": {},
   "outputs": [
    {
     "data": {
      "text/html": [
       "<script>requirejs.config({paths: { 'plotly': ['https://cdn.plot.ly/plotly-latest.min']},});if(!window.Plotly) {{require(['plotly'],function(plotly) {window.Plotly=plotly;});}}</script>"
      ],
      "text/vnd.plotly.v1+html": [
       "<script>requirejs.config({paths: { 'plotly': ['https://cdn.plot.ly/plotly-latest.min']},});if(!window.Plotly) {{require(['plotly'],function(plotly) {window.Plotly=plotly;});}}</script>"
      ]
     },
     "metadata": {},
     "output_type": "display_data"
    }
   ],
   "source": [
    "import numpy as np\n",
    "import plotly.offline as pyo\n",
    "import plotly.graph_objs as go\n",
    "from plotly import tools\n",
    "import matplotlib.pyplot as plt\n",
    "from mpl_toolkits.mplot3d import Axes3D\n",
    "\n",
    "pyo.init_notebook_mode(connected=True)"
   ]
  },
  {
   "cell_type": "code",
   "execution_count": 3,
   "metadata": {
    "collapsed": true
   },
   "outputs": [],
   "source": [
    "# Sample uniformly on plane for theta, phi\n",
    "def sample_plane_points(n, r):\n",
    "    theta = np.random.uniform(0, 2*np.pi, size = n)\n",
    "    phi = np.random.uniform(0, np.pi, size = n)\n",
    "    \n",
    "    return theta, phi\n",
    "    \n",
    "# Translate plane to spherical coordinates\n",
    "def to_spherical_coordinates(theta, phi, r):\n",
    "    x = r * np.cos(theta) * np.sin(phi)\n",
    "    y = r * np.sin(theta) * np.sin(phi)\n",
    "    z = r * np.cos(phi)\n",
    "    \n",
    "    return x, y, z"
   ]
  },
  {
   "cell_type": "code",
   "execution_count": 4,
   "metadata": {},
   "outputs": [],
   "source": [
    "def plot_on_sphere(x, y, z, r, s_color, m_color, marker_size, line_width):\n",
    "    \n",
    "    # Plotting objects for creating a sphere\n",
    "    u, v = np.mgrid[0:2*np.pi:20j, 0:np.pi:20j]\n",
    "    xs = r * np.cos(u) * np.sin(v)\n",
    "    ys = r * np.sin(u) * np.sin(v)\n",
    "    zs = r * np.cos(v)\n",
    "\n",
    "    lines = []\n",
    "    line_marker = dict(color=s_color, width = line_width)\n",
    "    for i, j, k in zip(xs, ys, zs):\n",
    "        lines.append(go.Scatter3d(x=i, y=j, z=k, mode = 'lines', line=line_marker))\n",
    "    for i, j, k in zip(xs.T, ys.T, zs.T):\n",
    "        lines.append(go.Scatter3d(x=i, y=j, z=k, mode = 'lines', line=line_marker))\n",
    "    \n",
    "    # Plot points in 3d\n",
    "    point_marker = dict(color = m_color, size = marker_size, opacity = 1)\n",
    "    \n",
    "    return [go.Scatter3d(x = x, y = y, z = z, mode = 'markers', marker = point_marker)] + lines\n",
    "\n",
    "def plot_on_plane(theta, phi, m_color, marker_size):\n",
    "    point_marker = dict(color = m_color, size = marker_size, opacity = 1)\n",
    "    return [go.Scatter(x = theta, y = phi, mode = 'markers', marker = point_marker)]\n",
    "\n",
    "def sample_points_on_sphere(n, r, color, marker_size1, marker_size2):\n",
    "    theta = np.random.uniform(0, 2*np.pi, size = n)\n",
    "    phi = np.random.uniform(0, np.pi, size = n)\n",
    "    \n",
    "    x = r * np.cos(theta) * np.sin(phi)\n",
    "    y = r * np.sin(theta) * np.sin(phi)\n",
    "    z = r * np.cos(phi)\n",
    "    point_marker = dict(color=color, size = marker_size1, opacity = 1)\n",
    "    spoint_marker = dict(color=color, size = marker_size2, opacity = 1)\n",
    "    \n",
    "    return ([go.Scatter3d(x = x, y = y, z = z, mode = 'markers', marker = spoint_marker)], \n",
    "            [go.Scatter(x = theta, y = phi, mode = 'markers', marker = point_marker)])"
   ]
  },
  {
   "cell_type": "code",
   "execution_count": 5,
   "metadata": {},
   "outputs": [],
   "source": [
    "theta, phi = sample_plane_points(n = 1000, r = 1)\n",
    "x, y, z = to_spherical_coordinates(theta, phi, r = 1)\n",
    "\n",
    "r2_plot = plot_on_plane(theta, phi, m_color='black', marker_size = 3)\n",
    "s1_plot = plot_on_sphere(x, y, z, 1, s_color='orange', m_color='black', marker_size = 3, line_width = 3)\n",
    "\n",
    "layout1 = go.Layout(\n",
    "    showlegend=False,\n",
    "    width=1000, height=750,\n",
    "    xaxis=dict(\n",
    "        gridcolor='orange',\n",
    "        zerolinecolor='orange',\n",
    "    ),\n",
    "    yaxis=dict(\n",
    "        gridcolor='orange',\n",
    "        zerolinecolor='orange',\n",
    "    )\n",
    ")\n",
    "\n",
    "layout2 = go.Layout(\n",
    "    showlegend=False,\n",
    "    width=1000, height=1000,\n",
    "    xaxis=dict(\n",
    "        gridcolor='black',\n",
    "        zerolinecolor='black',\n",
    "    ),\n",
    "    yaxis=dict(\n",
    "        gridcolor='black',\n",
    "        zerolinecolor='black',\n",
    "    )\n",
    ")\n",
    "\n",
    "r2_fig = go.Figure(data=r2_plot, layout=layout1)\n",
    "s1_fig = go.Figure(data=s1_plot, layout = layout2)"
   ]
  },
  {
   "cell_type": "code",
   "execution_count": 9,
   "metadata": {},
   "outputs": [],
   "source": [
    "fig = plt.figure(figsize=(8,6))\n",
    "ax = fig.gca(projection = '3d')\n",
    "r = 1\n",
    "u, v = np.mgrid[0:2*np.pi:20j, 0:np.pi:20j]\n",
    "xs = r * np.cos(u) * np.sin(v)\n",
    "ys = r * np.sin(u) * np.sin(v)\n",
    "zs = r * np.cos(v)\n",
    "\n",
    "ax.plot_wireframe(xs, ys, zs, color = 'orange')\n",
    "ax.scatter(x, y, z, color = 'black', s = 3)\n",
    "plt.axis('off')\n",
    "plt.savefig('sphere.svg', transparent = True)\n"
   ]
  },
  {
   "cell_type": "code",
   "execution_count": 10,
   "metadata": {},
   "outputs": [],
   "source": [
    "fig = plt.figure(figsize=(8,6))\n",
    "ax = fig.gca()\n",
    "\n",
    "plt.grid(True)\n",
    "plt.rc('grid', linestyle=\"-\", color='orange')\n",
    "plt.scatter(theta, phi, color = 'black')\n",
    "plt.savefig('plane.svg',  transparent = True)"
   ]
  },
  {
   "cell_type": "code",
   "execution_count": null,
   "metadata": {},
   "outputs": [],
   "source": [
    "pyo.plot(r2_fig, image='svg')"
   ]
  },
  {
   "cell_type": "code",
   "execution_count": null,
   "metadata": {},
   "outputs": [],
   "source": [
    "pyo.plot(s1_fig, image='svg')"
   ]
  },
  {
   "cell_type": "code",
   "execution_count": null,
   "metadata": {
    "collapsed": true
   },
   "outputs": [],
   "source": []
  }
 ],
 "metadata": {
  "kernelspec": {
   "display_name": "Python 3",
   "language": "python",
   "name": "python3"
  },
  "language_info": {
   "codemirror_mode": {
    "name": "ipython",
    "version": 3
   },
   "file_extension": ".py",
   "mimetype": "text/x-python",
   "name": "python",
   "nbconvert_exporter": "python",
   "pygments_lexer": "ipython3",
   "version": "3.6.1"
  }
 },
 "nbformat": 4,
 "nbformat_minor": 2
}
